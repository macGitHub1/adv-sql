{
 "cells": [
  {
   "cell_type": "code",
   "execution_count": 1,
   "metadata": {},
   "outputs": [],
   "source": [
    "#required libraries\n",
    "import numpy as np\n",
    "import pandas as pd\n",
    "\n",
    "from sqlalchemy import create_engine, Column, Integer, String, Numeric, Text, Float\n",
    "from sqlalchemy.orm import Session\n",
    "from sqlalchemy.ext.automap import automap_base\n",
    "from sqlalchemy.ext.declarative import declarative_base\n",
    "\n"
   ]
  },
  {
   "cell_type": "code",
   "execution_count": 2,
   "metadata": {},
   "outputs": [],
   "source": [
    "#input raw csv datain dataframes\n",
    "hawaii_measurements_df = pd.read_csv('./Resources/hawaii_measurements.csv')\n",
    "hawaii_stations_df = pd.read_csv('./Resources/hawaii_stations.csv')\n",
    "\n"
   ]
  },
  {
   "cell_type": "code",
   "execution_count": 3,
   "metadata": {},
   "outputs": [
    {
     "name": "stdout",
     "output_type": "stream",
     "text": [
      "Measurement shape (19550, 4) and columns: Index(['station', 'date', 'prcp', 'tobs'], dtype='object')\n",
      "stations shape (9, 5) and columns: Index(['station', 'name', 'latitude', 'longitude', 'elevation'], dtype='object')\n",
      "--------Before Clean -----------------\n",
      "Total Number of Nulls in Measurement: station       0\n",
      "date          0\n",
      "prcp       1447\n",
      "tobs          0\n",
      "dtype: int64\n",
      "--------After Clean -----------------\n",
      "Shape: (19550, 4): Total NUmber of  Nulls in Cleaned Measurement: station    0\n",
      "date       0\n",
      "prcp       0\n",
      "tobs       0\n",
      "dtype: int64\n"
     ]
    }
   ],
   "source": [
    "#check and clean data\n",
    "print (f\"Measurement shape {hawaii_measurements_df.shape} and columns: {hawaii_measurements_df.columns}\")\n",
    "print (f\"stations shape {hawaii_stations_df.shape} and columns: {hawaii_stations_df.columns}\")\n",
    "\n",
    "print(\"--------Before Clean -----------------\")\n",
    "print(f\"Total Number of Nulls in Measurement: {pd.isnull(hawaii_measurements_df).sum()}\")\n",
    "#print(f\"Any Nulls in stations: {pd.isnull(hawaii_stations_df)}\")\n",
    "\n",
    "#clean\n",
    "clean_hawaii_measurements_df = hawaii_measurements_df.fillna(method='ffill')\n",
    "print(\"--------After Clean -----------------\")\n",
    "print(f\"Shape: { clean_hawaii_measurements_df.shape}: Total NUmber of  Nulls in Cleaned Measurement: {pd.isnull(clean_hawaii_measurements_df).sum()}\")\n",
    "\n",
    "#save clean \n",
    "clean_hawaii_measurements_df.to_csv('./Resources/cleaned_hawaii_measurements.csv')\n",
    "\n"
   ]
  },
  {
   "cell_type": "code",
   "execution_count": 4,
   "metadata": {},
   "outputs": [],
   "source": [
    "#create a new pd fro saved clean\n",
    "meaurements_df = pd.read_csv('./Resources/cleaned_hawaii_measurements.csv')\n",
    "stations_df = pd.read_csv('./Resources/hawaii_stations.csv')\n",
    "\n",
    "# Create the engine to connect SQLAlchemy to SQLite\n",
    "engine = create_engine(\"sqlite:///Resources/hawaii.sqlite\")\n",
    "Base = declarative_base()\n",
    "\n",
    "class Stations(Base):\n",
    "    __tablename__ = 'stations'\n",
    "    id = Column(Integer, primary_key=True)\n",
    "    name =  Column(String(50))\n",
    "    station = Column(String(50))\n",
    "    latiude = Column(Integer)\n",
    "    longitude = Column(Integer)\n",
    "    elevation = Column(Integer)\n",
    "    \n",
    "\n",
    "class Measurements(Base):\n",
    "    __tablename__ = 'measurements'\n",
    "    id = Column(Integer, primary_key=True)\n",
    "    station =  Column(String(50))\n",
    "    date = Column(String(50))\n",
    "    prcp = Column(String(50))\n",
    "    tobs = Column(String(50))\n",
    "    \n",
    "# write to database   \n",
    "conn = engine.connect()\n",
    "Base.metadata.create_all(engine)\n",
    "\n",
    "from sqlalchemy.orm import Session\n",
    "session = Session(bind=engine)\n",
    "meaurements_df.to_sql(\"measurements\", engine, if_exists='replace')\n",
    "stations_df.to_sql(\"stations\", engine, if_exists='replace')    "
   ]
  },
  {
   "cell_type": "code",
   "execution_count": null,
   "metadata": {},
   "outputs": [],
   "source": []
  }
 ],
 "metadata": {
  "kernelspec": {
   "display_name": "Python 3",
   "language": "python",
   "name": "python3"
  },
  "language_info": {
   "codemirror_mode": {
    "name": "ipython",
    "version": 3
   },
   "file_extension": ".py",
   "mimetype": "text/x-python",
   "name": "python",
   "nbconvert_exporter": "python",
   "pygments_lexer": "ipython3",
   "version": "3.6.4"
  }
 },
 "nbformat": 4,
 "nbformat_minor": 2
}
